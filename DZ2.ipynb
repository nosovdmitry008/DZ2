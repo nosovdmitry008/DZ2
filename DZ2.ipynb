{
  "nbformat": 4,
  "nbformat_minor": 0,
  "metadata": {
    "colab": {
      "name": "DZ2",
      "provenance": [],
      "authorship_tag": "ABX9TyPchzEBD2yRHk+AxZtQcsvj",
      "include_colab_link": true
    },
    "kernelspec": {
      "name": "python3",
      "display_name": "Python 3"
    },
    "language_info": {
      "name": "python"
    }
  },
  "cells": [
    {
      "cell_type": "markdown",
      "metadata": {
        "id": "view-in-github",
        "colab_type": "text"
      },
      "source": [
        "<a href=\"https://colab.research.google.com/github/nosovdmitry008/DZ2/blob/master/DZ2.ipynb\" target=\"_parent\"><img src=\"https://colab.research.google.com/assets/colab-badge.svg\" alt=\"Open In Colab\"/></a>"
      ]
    },
    {
      "cell_type": "markdown",
      "source": [
        "Задача 1\n",
        "\n",
        "Вывести на экран циклом пять строк из нулей длиной 4, причем каждая строка должна быть пронумерована.\n",
        "\n",
        "Пример:\n",
        "\n",
        "    0 0000\n",
        "    1 0000\n",
        "    2 0000\n",
        "    3 0000\n",
        "....\n",
        "'''\n",
        "\n",
        "     "
      ],
      "metadata": {
        "id": "sIpx4C3NMRa6"
      }
    },
    {
      "cell_type": "code",
      "source": [
        "k='0000'\n",
        "\n",
        "for z in range(5):\n",
        "\n",
        "  print(z, k)"
      ],
      "metadata": {
        "colab": {
          "base_uri": "https://localhost:8080/"
        },
        "id": "rz7oKC9NMigM",
        "outputId": "e6c68e9b-d78b-4d82-e6bb-ed25e3a448f9"
      },
      "execution_count": 2,
      "outputs": [
        {
          "output_type": "stream",
          "name": "stdout",
          "text": [
            "0 0000\n",
            "1 0000\n",
            "2 0000\n",
            "3 0000\n",
            "4 0000\n"
          ]
        }
      ]
    },
    {
      "cell_type": "markdown",
      "source": [
        "Задача 2\n",
        "\n",
        "Пользователь в цикле вводит 10 производных цифр. Выведите количество введеных пользователем цифр 5.\n",
        "'''\n"
      ],
      "metadata": {
        "id": "QfVTt2ZLMUkO"
      }
    },
    {
      "cell_type": "code",
      "source": [
        "e=0\n",
        "for z in range(10):\n",
        "  k=input('Введите цифры: ')\n",
        "  if int(k) == 5:\n",
        "    e+=1\n",
        "print('Введено количество 5: ', e)"
      ],
      "metadata": {
        "colab": {
          "base_uri": "https://localhost:8080/"
        },
        "id": "D6McJJQdNXai",
        "outputId": "db1b40fa-3241-4b2d-f3db-71cd8d3e119b"
      },
      "execution_count": 22,
      "outputs": [
        {
          "output_type": "stream",
          "name": "stdout",
          "text": [
            "Введите цифры: 4\n",
            "Введите цифры: 6\n",
            "Введите цифры: 5\n",
            "Введите цифры: 4\n",
            "Введите цифры: 6\n",
            "Введите цифры: 5\n",
            "Введите цифры: 7\n",
            "Введите цифры: 5\n",
            "Введите цифры: 4\n",
            "Введите цифры: 6\n",
            "Введено количество 5:  3\n"
          ]
        }
      ]
    },
    {
      "cell_type": "markdown",
      "source": [
        "\n",
        "Задача 3\n",
        "\n",
        "Вывести сумму ряда чисел от 1 до 100. Полученный результат вывести на экран."
      ],
      "metadata": {
        "id": "BRfRzd5XMbl9"
      }
    },
    {
      "cell_type": "code",
      "source": [
        "z=0\n",
        "for i in range(1,101):\n",
        "  z+=i\n",
        "print(z)\n"
      ],
      "metadata": {
        "colab": {
          "base_uri": "https://localhost:8080/"
        },
        "id": "-kIuU4KGRcwx",
        "outputId": "d437e9fa-8579-4190-cd7b-53ddd60e3512"
      },
      "execution_count": 24,
      "outputs": [
        {
          "output_type": "stream",
          "name": "stdout",
          "text": [
            "5050\n"
          ]
        }
      ]
    },
    {
      "cell_type": "markdown",
      "source": [
        "\n",
        "Задача 4\n",
        "\n",
        "Найти произведение ряда чисел от 1 до 10. Полученный результат вывести на экран(можно поискать в интернете алгоритм факториала в python).\n",
        "'''\n"
      ],
      "metadata": {
        "id": "byU74tkEMeVU"
      }
    },
    {
      "cell_type": "code",
      "source": [
        "z=1\n",
        "for i in range(1,11):\n",
        "  z=z*i\n",
        "print(z)"
      ],
      "metadata": {
        "colab": {
          "base_uri": "https://localhost:8080/"
        },
        "id": "Cndvn8IBSH9i",
        "outputId": "9206a78b-8afc-4c4d-8a07-374740e95988"
      },
      "execution_count": 27,
      "outputs": [
        {
          "output_type": "stream",
          "name": "stdout",
          "text": [
            "3628800\n"
          ]
        }
      ]
    },
    {
      "cell_type": "code",
      "source": [
        "import math\n",
        "n=10\n",
        "print(\"Факториал числа \",n,\" это: \",math.factorial(n))\n",
        "\n"
      ],
      "metadata": {
        "colab": {
          "base_uri": "https://localhost:8080/"
        },
        "id": "CI5ofewgTf7x",
        "outputId": "0a610be2-66ba-472d-e79f-295e2362b357"
      },
      "execution_count": 29,
      "outputs": [
        {
          "output_type": "stream",
          "name": "stdout",
          "text": [
            "Факториал числа  10  это:  3628800\n"
          ]
        }
      ]
    },
    {
      "cell_type": "markdown",
      "source": [
        "\n",
        "'''\n",
        "(!!!Подсказка на следующую задачу - превратите число в строку, а потом работайте с строкой)\n",
        "\n",
        "Задача 5\n",
        "\n",
        "Вывести цифры числа на каждой новой строке.\n",
        "\n",
        "Пример:\n",
        "     123567\n",
        "\n",
        "     1\n",
        "     2\n",
        "     3\n",
        "     4\n",
        "     5\n",
        "     6\n",
        "     7\n",
        "\n",
        "'''\n",
        "     "
      ],
      "metadata": {
        "id": "zahFwwhkMf13"
      }
    },
    {
      "cell_type": "code",
      "source": [
        "z=1234567\n",
        "k=str(z)\n",
        "for i in range(len(k)):\n",
        "  print(k[i])"
      ],
      "metadata": {
        "colab": {
          "base_uri": "https://localhost:8080/"
        },
        "id": "dezajollT-a_",
        "outputId": "a632847a-55ea-4968-fa74-ed9dc65fe06d"
      },
      "execution_count": 36,
      "outputs": [
        {
          "output_type": "stream",
          "name": "stdout",
          "text": [
            "1\n",
            "2\n",
            "3\n",
            "4\n",
            "5\n",
            "6\n",
            "7\n"
          ]
        }
      ]
    },
    {
      "cell_type": "markdown",
      "source": [
        "Задача 6\n",
        "\n",
        "Найти сумму цифр числа.\n",
        "```\n",
        "    Пример:\n",
        "    254314\n",
        "    Сумма цифр числа - 19(2+5+4+3+1+4)\n",
        "\n",
        "\n",
        "\n"
      ],
      "metadata": {
        "id": "YoRklSPdVTxt"
      }
    },
    {
      "cell_type": "code",
      "source": [
        "z=254314\n",
        "k=str(z)\n",
        "o=0\n",
        "for i in range(len(k)):\n",
        "  o+=int(k[i])\n",
        "print(o)"
      ],
      "metadata": {
        "colab": {
          "base_uri": "https://localhost:8080/"
        },
        "id": "Y2T_foQTWfGE",
        "outputId": "8d089593-f1ac-4dca-9c19-def11ed457f4"
      },
      "execution_count": 38,
      "outputs": [
        {
          "output_type": "stream",
          "name": "stdout",
          "text": [
            "19\n"
          ]
        }
      ]
    },
    {
      "cell_type": "markdown",
      "source": [
        "\n",
        "\n",
        "Задача 7\n",
        "\n",
        "Найти произведение цифр числа.\n",
        "```\n",
        "    Пример:\n",
        "    254314\n",
        "    Произведение цифр числа - 480(2*5*4*3*1*4)\n",
        "\n"
      ],
      "metadata": {
        "id": "a-JqQOPOVWss"
      }
    },
    {
      "cell_type": "code",
      "source": [
        "z=254314\n",
        "k=str(z)\n",
        "o=1\n",
        "for i in range(len(k)):\n",
        "  o=o*int(k[i])\n",
        "print(o)"
      ],
      "metadata": {
        "colab": {
          "base_uri": "https://localhost:8080/"
        },
        "id": "QP_0pnSsZgfl",
        "outputId": "034db53c-1eaf-4277-a233-8338c8827409"
      },
      "execution_count": 39,
      "outputs": [
        {
          "output_type": "stream",
          "name": "stdout",
          "text": [
            "480\n"
          ]
        }
      ]
    },
    {
      "cell_type": "markdown",
      "source": [
        "\n",
        "Задача 8\n",
        "\n",
        "Пользователь должен ввести число. Ваш код должен дать ответ на вопрос: есть ли среди цифр числа 5?\n",
        "\n",
        "Если есть, код должен вывексти \"Цифра 5 есть в числе\", в противном случае вывести: \"Цифры 5 нет в числе\".\n"
      ],
      "metadata": {
        "id": "OA_rlJDsVZDn"
      }
    },
    {
      "cell_type": "code",
      "source": [
        "k=input('Введите число: ')\n",
        "e=0\n",
        "for z in range(len(k)):\n",
        "  if int(k[z]) == 5:\n",
        "    e+=1\n",
        "if e >1:\n",
        "  print('Цифра 5 есть в числе')\n",
        "else:\n",
        "  print('Цифры 5 нет в числе')"
      ],
      "metadata": {
        "colab": {
          "base_uri": "https://localhost:8080/"
        },
        "id": "kgwLPFHNZrmA",
        "outputId": "7769418b-c930-4bce-d7d9-da8e0a3d749d"
      },
      "execution_count": 42,
      "outputs": [
        {
          "output_type": "stream",
          "name": "stdout",
          "text": [
            "Введите число: 56564556576\n",
            "Цифра 5 есть в числе\n"
          ]
        }
      ]
    },
    {
      "cell_type": "markdown",
      "source": [
        "Задача 9\n",
        "\n",
        "Найти максимальную цифру в числе\n",
        "```\n",
        "Пример:\n",
        "    354359688\n",
        "    'Цифра - 9 максимальная в числе 354359688'\n",
        "\n"
      ],
      "metadata": {
        "id": "g1fzFsgAVa21"
      }
    },
    {
      "cell_type": "code",
      "source": [
        "k=input('Введите число: ')\n",
        "e=0\n",
        "for z in range(len(k)):\n",
        "  if int(k[z]) > int(e):\n",
        "    e=k[z]\n",
        "print('Цифра - ', str(e), ' максимальная в числе ', k)"
      ],
      "metadata": {
        "colab": {
          "base_uri": "https://localhost:8080/"
        },
        "id": "bAdbj_XbbUsC",
        "outputId": "53ce87e8-2030-41df-b698-00144dd72547"
      },
      "execution_count": 45,
      "outputs": [
        {
          "output_type": "stream",
          "name": "stdout",
          "text": [
            "Введите число: 148432367543\n",
            "Цифра -  8  максимальная в числе  148432367543\n"
          ]
        }
      ]
    },
    {
      "cell_type": "markdown",
      "source": [
        "Задача 10\n",
        "\n",
        "Найти количество цифр 5 в числе\n",
        "\n",
        "```\n",
        "\n",
        "    Пример:\n",
        "        543231235643\n",
        "        'В числе 2 5-ки."
      ],
      "metadata": {
        "id": "saaFeubOVcgb"
      }
    },
    {
      "cell_type": "code",
      "source": [
        "k=input('Введите число: ')\n",
        "e=0\n",
        "for z in range(len(k)):\n",
        "  if int(k[z]) == 5:\n",
        "    e+=1\n",
        "print('В числе  ', e, '5-ки.')"
      ],
      "metadata": {
        "colab": {
          "base_uri": "https://localhost:8080/"
        },
        "id": "Z4U-t4XactaM",
        "outputId": "1dd50193-81a0-43a1-8ad8-93b8f29465c0"
      },
      "execution_count": 46,
      "outputs": [
        {
          "output_type": "stream",
          "name": "stdout",
          "text": [
            "Введите число: 234567654566567\n",
            "В числе   4 5-ки.\n"
          ]
        }
      ]
    }
  ]
}